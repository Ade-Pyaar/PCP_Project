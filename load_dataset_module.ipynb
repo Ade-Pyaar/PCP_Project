{
 "cells": [
  {
   "cell_type": "code",
   "execution_count": 8,
   "metadata": {},
   "outputs": [],
   "source": [
    "#import the required libraries\n",
    "import numpy as np\n",
    "import csv\n",
    "from itertools import islice\n",
    "\n",
    "\n",
    "\n",
    "def retrieve_artist_features():\n",
    "    artist_music = {} #define an empty dict to store the data\n",
    "    \n",
    "    #open and read the file using csv reader\n",
    "    with open('data.csv', encoding='utf8') as file:\n",
    "        data = csv.reader(file)\n",
    "        #start reading the file from the second line\n",
    "        for row in islice(data, 1, None):\n",
    "            #save each data row as a dict using the ID as the key and the values being the details\n",
    "            artist_music[row[6]] = {'artists': row[1],\n",
    "                                 'key': int(row[8]),\n",
    "                                 'popularity': int(row[13]),\n",
    "                                 'year': int(row[18])}\n",
    "    #return the dict with all the data in it\n",
    "    return artist_music\n",
    "\n",
    "\n",
    "\n",
    "def retrieve_music_features():\n",
    "    music_features = {} #define an empty dict to store the data\n",
    "    \n",
    "    #open and read the file using csv reader\n",
    "    with open('data.csv', encoding='utf8') as file:\n",
    "        data = csv.reader(file)\n",
    "        #start reading the file from the second line\n",
    "        for row in islice(data, 1, None):\n",
    "            #save each data row as a dict using the ID as the key and the values being the details\n",
    "            music_features[row[6]] = {'acousticness': float(row[0]),\n",
    "                                   'danceability': float(row[2]),\n",
    "                                   'duration_ms': int(row[3]),\n",
    "                                   'energy': float(row[4]),\n",
    "                                   'explicit': int(row[5]),\n",
    "                                   'instrumentalness': float(row[7]),\n",
    "                                   'key': int(row[8]),\n",
    "                                   'liveness': float(row[9]),\n",
    "                                   'loudness': float(row[10]),\n",
    "                                   'mode': int(row[11]),\n",
    "                                   'name': row[12],\n",
    "                                   'popularity': int(row[13]),\n",
    "                                   'release_date': row[14],\n",
    "                                   'speechiness': float(row[15]),\n",
    "                                   'tempo': float(row[16]),\n",
    "                                   'valence': float(row[17])}\n",
    "    #return the dict with all the data in it\n",
    "    return music_features"
   ]
  }
 ],
 "metadata": {
  "kernelspec": {
   "display_name": "Python 3",
   "language": "python",
   "name": "python3"
  },
  "language_info": {
   "codemirror_mode": {
    "name": "ipython",
    "version": 3
   },
   "file_extension": ".py",
   "mimetype": "text/x-python",
   "name": "python",
   "nbconvert_exporter": "python",
   "pygments_lexer": "ipython3",
   "version": "3.8.3"
  }
 },
 "nbformat": 4,
 "nbformat_minor": 4
}
